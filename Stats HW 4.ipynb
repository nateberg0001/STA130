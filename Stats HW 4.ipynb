{
 "cells": [
  {
   "cell_type": "markdown",
   "id": "ea37a84e",
   "metadata": {},
   "source": [
    "# Question 1\n",
    "\n",
    "The standard error of the mean is a calculation done to see the possible variance of the sample mean from the population mean at a given confidence interval. The standard deviation is a statistic that calculates how far on average data points are from the mean. The standard error shows the possible variance between the estimated statistic and actual parameter, whereas the standard deviation is the variance within a data set."
   ]
  },
  {
   "cell_type": "markdown",
   "id": "ee3cda20",
   "metadata": {},
   "source": [
    "# Question 2\n",
    "\n",
    "Use the following the following formula:\n",
    "Confidence Interval of Mean = Sample Mean +/- z-score * the Standard Error of the Mean\n",
    "\n",
    "Z-score = number of standard of deviation away from the mean = 2 because approximately 95% of the data will be within 2 standard deviations away from mean. \n",
    "\n",
    "If you do this process many, many times, the interval created will contain the population mean approximately 95% of the time."
   ]
  },
  {
   "cell_type": "markdown",
   "id": "497107db",
   "metadata": {},
   "source": [
    "# Question 3\n",
    "\n",
    "We can create a 95% bootstrapped confidence interval using the bootstrapped means without using standard deviations by a interval using the 2.5th percentile to the 97.5th percentile of the bootstrapped means. In coding, you can find these values using numpy.quantile(data, quantile). This interval will contain 95% of the bootstrapped means."
   ]
  },
  {
   "cell_type": "markdown",
   "id": "e3ee94e0",
   "metadata": {},
   "source": [
    "# Question 4"
   ]
  },
  {
   "cell_type": "code",
   "execution_count": 3,
   "id": "74f58dec",
   "metadata": {},
   "outputs": [
    {
     "name": "stdout",
     "output_type": "stream",
     "text": [
      "95% Bootstrap Confidence Interval for the Mean: (12.7, 16.502499999999998)\n"
     ]
    }
   ],
   "source": [
    "import numpy as np\n",
    "\n",
    "# Given sample data (replace with your own sample)\n",
    "sample = [12, 15, 14, 10, 18, 20, 16, 11, 13, 17]\n",
    "\n",
    "# Number of bootstrap samples\n",
    "num_bootstrap_samples = 1000\n",
    "\n",
    "# Array to store bootstrap means\n",
    "bootstrap_means = []\n",
    "\n",
    "# Bootstrap sampling process\n",
    "for _ in range(num_bootstrap_samples):\n",
    "    # Resample the original data with replacement\n",
    "    resample = np.random.choice(sample, size=len(sample), replace=True)\n",
    "    #\n",
    "    # VVV\n",
    "    # CHANGE THE LINE OF CODE BELOW TO ESTIMATE OTHER POPULATION PARAMETERS (Examples include np.median, np.std)\n",
    "    bootstrap_means.append(np.mean(resample))\n",
    "\n",
    "# Calculate the 95% confidence interval for the mean\n",
    "lower_percentile = np.percentile(bootstrap_means, 2.5)\n",
    "upper_percentile = np.percentile(bootstrap_means, 97.5)\n",
    "confidence_interval = (lower_percentile, upper_percentile)\n",
    "\n",
    "# Output the 95% confidence interval for the mean\n",
    "print(f\"95% Bootstrap Confidence Interval for the Mean: {confidence_interval}\")"
   ]
  },
  {
   "cell_type": "markdown",
   "id": "20b354ab",
   "metadata": {},
   "source": [
    "Summary of Conversation with ChatBot as provided by ChatBot: \n",
    "\"You asked for Python code to create a 95% bootstrap confidence interval for a population mean. I provided the code with detailed comments, including instructions on how to modify it for other parameters, such as the median. The key idea is to use bootstrap resampling and calculate percentiles for confidence intervals, and the approach can be adapted to different statistics like the median or standard deviation.\"\n",
    "\n",
    "Link to ChatBot: https://chatgpt.com/share/66fd8960-4790-8011-9890-b3da712570e7"
   ]
  },
  {
   "cell_type": "markdown",
   "id": "6ef38abc",
   "metadata": {},
   "source": [
    "# Question 5\n",
    "\n",
    "It's important to note that we are estimating the population mean using the sample mean. The population is a constant value (given a constant timeframe) whereas the sample mean can change with each sample. While it is easy to collect data and calculate sample means, it is impossible (outside of a perfect census) to know for sure the population mean."
   ]
  },
  {
   "cell_type": "markdown",
   "id": "8601a0e8",
   "metadata": {},
   "source": [
    "# Question 6"
   ]
  },
  {
   "cell_type": "markdown",
   "id": "5b0cf03f",
   "metadata": {},
   "source": [
    "Bootstrapping is a process where in lieu of a big enough sample, subsets of a smaller sample are collected many times. Then, we run calculations based on these subsets. We can then extrapolate these findings to estimate characteristics of the target population. \n",
    "\n",
    "As stated above, bootstrapping is used to run calculations on samples that would otherwise be too small for traditional statistical methods.\n",
    "\n",
    "One of the possible calculations that you could use this process for is to determine whether a guess on a characteristic of the population is plausible or not. This process will produce many calculations that you can compare the guess to. If it is within the middle section of the distribution of the calculations, the guess is plausible. Otherwise, the guess is not very plausible. Of course, the \"middle section\" is not well defined, so it is up to the statistician to first determine what qualifies as this \"middle section\". This cutoff is often represented as the alpha level."
   ]
  },
  {
   "cell_type": "markdown",
   "id": "a1c92215",
   "metadata": {},
   "source": [
    "# Question 7\n",
    "\n",
    "While the calculated sample mean was not zero, this is just an estimate of the population mean. If 0 is in the confidence interval at a given alpha-level, it would be that it is not correct to reject the null hypothesis of mean change = 0 because it very well could be zero. On the other hand, if zero was outside the confidence interval, the chance is low enough (P value less than alpha level) that the population mean is 0 that we can reject the hypothesis that it is zero."
   ]
  },
  {
   "cell_type": "markdown",
   "id": "3a30c668",
   "metadata": {},
   "source": [
    "# Question 8\n",
    "In order to perform the necessary tasks on the data, we will first need to intialize our data as a pandas dataframe."
   ]
  },
  {
   "cell_type": "code",
   "execution_count": 42,
   "id": "758f739b",
   "metadata": {},
   "outputs": [
    {
     "name": "stdout",
     "output_type": "stream",
     "text": [
      "   PatientID  Age Gender  IntialHealthScore  FinalHealthScore\n",
      "0          1   45      M                 84                86\n",
      "1          2   34      F                 78                86\n",
      "2          3   29      M                 83                80\n",
      "3          4   52      F                 81                86\n",
      "4          5   37      M                 81                84\n",
      "5          6   41      F                 80                86\n",
      "6          7   33      M                 79                86\n",
      "7          8   48      F                 85                82\n",
      "8          9   26      M                 76                83\n",
      "9         10   39      F                 83                84\n"
     ]
    },
    {
     "data": {
      "image/png": "[encoded data removed]",
      "text/plain": [
       "<Figure size 640x480 with 1 Axes>"
      ]
     },
     "metadata": {},
     "output_type": "display_data"
    }
   ],
   "source": [
    "import pandas as pd\n",
    "import numpy as np\n",
    "import matplotlib.pyplot as plt\n",
    "\n",
    "try:\n",
    "    df=pd.read_csv(r\"C:\\Users\\User1\\OneDrive\\Documents\\STATS_HW4.csv\")\n",
    "except FileNotFoundError:\n",
    "    df = pd.DataFrame({\"PatientID\" : [1,2,3,4,5,6,7,8,9,10], \n",
    "                   \"Age\" : [45,34,29,52,37,41,33,48,26,39],\n",
    "                  \"Gender\" : [\"M\",\"F\",\"M\",\"F\",\"M\",\"F\",\"M\",\"F\",\"M\",\"F\"],\n",
    "                  \"IntialHealthScore\" : [84,78,83,81,81,80,79,85,76,83],\n",
    "                  \"FinalHealthScore\": [86,86,80,86,84,86,86,82,83,84]})\n",
    "\n",
    "print(df)\n",
    "plt.hist((df[\"IntialHealthScore\"],df[\"FinalHealthScore\"]), bins=10, edgecolor='k', alpha=0.7)\n",
    "plt.xlabel('Health Score')\n",
    "plt.ylabel('Frequency')\n",
    "plt.title('Histogram of Health Scores')\n",
    "plt.grid(axis='y', linestyle='--', alpha=0.7)\n",
    "plt.show()"
   ]
  },
  {
   "cell_type": "markdown",
   "id": "fa53f1e6",
   "metadata": {},
   "source": [
    "The null hypothesis is what would occur if treatment had no effect. We can represent this as change in health score being zero.\n",
    " \n",
    "$N_0 : S_f - S_I = 0$\n",
    "\n",
    "The alternative hypothesis is what would occur if treatment had an effect. We can represent this as a positive change in health score.\n",
    "\n",
    "$N_A : S_f - S_I > 0$\n",
    "\n",
    "With definitions out of the way, let's do some bootstrapping to get some samples. To generate the code, I ask ChatBot, \"How can get some bootstrapped samples of the difference in intialhealthscore and finalhealthscore?\". It responded with the following code:"
   ]
  },
  {
   "cell_type": "code",
   "execution_count": 31,
   "id": "6982d2ef",
   "metadata": {},
   "outputs": [
    {
     "name": "stdout",
     "output_type": "stream",
     "text": [
      "[2.1, 1.6, 3.3, 2.4, 1.9, 4.5, 1.9, 3.2, 2.4, 2.6]\n"
     ]
    }
   ],
   "source": [
    "# Calculate the difference between InitialHealthScore and FinalHealthScore\n",
    "df['ScoreDifference'] = df['FinalHealthScore'] - df['IntialHealthScore']\n",
    "\n",
    "#Intialize seed\n",
    "np.random.seed(3141592653)\n",
    "\n",
    "# Function to generate bootstrapped samples\n",
    "def bootstrap_samples(data, n_samples=1000):\n",
    "    boot_means = []\n",
    "    for _ in range(n_samples):\n",
    "        sample = np.random.choice(data, size=len(data), replace=True)\n",
    "        boot_means.append(np.mean(sample))\n",
    "    return boot_means\n",
    "\n",
    "# Get bootstrapped samples of the difference\n",
    "bootstrapped_differences = bootstrap_samples(df['ScoreDifference'].values)\n",
    "\n",
    "# Display first 10 bootstrapped means\n",
    "print(bootstrapped_differences[:10])"
   ]
  },
  {
   "cell_type": "markdown",
   "id": "f06aa91e",
   "metadata": {},
   "source": [
    "I ask \"Excellent, now can we get histogram of these bootstrapped_differences?\" and with some more help from ChatBot, we can easily make a visual representation of these samples:"
   ]
  },
  {
   "cell_type": "code",
   "execution_count": 32,
   "id": "33ff8a23",
   "metadata": {},
   "outputs": [
    {
     "data": {
      "image/png": "[encoded data removed]",
      "text/plain": [
       "<Figure size 640x480 with 1 Axes>"
      ]
     },
     "metadata": {},
     "output_type": "display_data"
    }
   ],
   "source": [
    "# Plotting the histogram of bootstrapped differences\n",
    "plt.hist(bootstrapped_differences, bins=30, edgecolor='k', alpha=0.7)\n",
    "plt.xlabel('Score Difference')\n",
    "plt.ylabel('Frequency')\n",
    "plt.title('Histogram of Bootstrapped Differences')\n",
    "plt.grid(axis='y', linestyle='--', alpha=0.7)\n",
    "plt.show()"
   ]
  },
  {
   "cell_type": "markdown",
   "id": "559a6d7d",
   "metadata": {},
   "source": [
    "Now to run a formal hypothesis test we need to decide an alpha-level. In many cases of a one-sided z-test, an alpha level of .025 is used. The following code (crafted by ChatBot after I asked \"now can we run a one-sided z-test using the standard deviation of the bootstrapped samples (alpha level .025)\") will perform a one-sided z-test with an alpha level of .025."
   ]
  },
  {
   "cell_type": "code",
   "execution_count": 34,
   "id": "c380cb59",
   "metadata": {},
   "outputs": [
    {
     "name": "stdout",
     "output_type": "stream",
     "text": [
      "Z-score: 2.740355914334696\n",
      "P-value: 0.003068634237677448\n",
      "Reject the null hypothesis: There is evidence that the mean difference is significantly greater than 0.\n"
     ]
    }
   ],
   "source": [
    "from scipy.stats import norm\n",
    "\n",
    "# Parameters\n",
    "alpha = 0.025\n",
    "hypothesized_mean = 0  # Assuming we want to test if the difference is significantly greater than 0\n",
    "\n",
    "# Step 1: Calculate mean and standard deviation of bootstrapped differences\n",
    "boot_mean = np.mean(bootstrapped_differences)\n",
    "boot_std = np.std(bootstrapped_differences)\n",
    "\n",
    "# Step 2: Calculate Z-score\n",
    "z_score = (boot_mean - hypothesized_mean) / boot_std\n",
    "\n",
    "# Step 3: Calculate p-value for one-sided test (greater than hypothesized_mean)\n",
    "p_value = 1 - norm.cdf(z_score)\n",
    "\n",
    "# Step 4: Compare p-value to alpha level\n",
    "print(f\"Z-score: {z_score}\")\n",
    "print(f\"P-value: {p_value}\")\n",
    "\n",
    "if p_value < alpha:\n",
    "    print(\"Reject the null hypothesis: There is evidence that the mean difference is significantly greater than 0.\")\n",
    "else:\n",
    "    print(\"Fail to reject the null hypothesis: There is not enough evidence that the mean difference is significantly greater than 0.\")"
   ]
  },
  {
   "cell_type": "markdown",
   "id": "32fd78fe",
   "metadata": {},
   "source": [
    "Because the P-value is less than the alpha level, there is sufficient evidence that there was a change in healthscore following treatment. However it is important to note that our sample might not be representative of the entire population and the healthscore may have been caused by outside factors, so our current experiment is unable to determine with certainty the efficacy of this drug.\n",
    "\n",
    "Apart from the first section of code, all of the following code snippets were crafted by ChatGPT following prompts by me. The entire conservation can be viewed here: https://chatgpt.com/share/66fefaed-30ec-8011-9602-5f4b2213794f"
   ]
  },
  {
   "cell_type": "markdown",
   "id": "cf04bc8d",
   "metadata": {},
   "source": [
    "# Question 9"
   ]
  },
  {
   "cell_type": "markdown",
   "id": "e2f7ce7f",
   "metadata": {},
   "source": [
    "Yes"
   ]
  }
 ],
 "metadata": {
  "kernelspec": {
   "display_name": "Python 3 (ipykernel)",
   "language": "python",
   "name": "python3"
  },
  "language_info": {
   "codemirror_mode": {
    "name": "ipython",
    "version": 3
   },
   "file_extension": ".py",
   "mimetype": "text/x-python",
   "name": "python",
   "nbconvert_exporter": "python",
   "pygments_lexer": "ipython3",
   "version": "3.11.6"
  }
 },
 "nbformat": 4,
 "nbformat_minor": 5
}
